{
 "cells": [
  {
   "cell_type": "code",
   "execution_count": 10,
   "id": "6f1afbc9-daae-43d8-9d5f-9261af464cdb",
   "metadata": {},
   "outputs": [],
   "source": [
    "import numpy as np\n",
    "import pandas as pd\n",
    "import ipywidgets as widgets\n",
    "from ipywidgets import Layout,GridspecLayout,interact, interact_manual,IntProgress,VBox,HBox,Button, ButtonStyle, Output,FileUpload\n",
    "from IPython.display import HTML, display, clear_output, FileLink, FileLinks\n",
    "import os\n",
    "import subprocess\n",
    "import lxml\n",
    "import base64\n",
    "import hashlib\n",
    "from typing import Callable\n",
    "# need pandas version >= 1.3"
   ]
  },
  {
   "cell_type": "markdown",
   "id": "2a059ed3",
   "metadata": {},
   "source": [
    "# [DataPipe_signalement_docelec] Procédures automatisées de signalement de la documentation électronique"
   ]
  },
  {
   "cell_type": "markdown",
   "id": "e14d6c3d",
   "metadata": {},
   "source": [
    "***\n",
    "\n",
    "## Consignes d'utilisation\n",
    "\n",
    "### Workflow FTF\n",
    "- Exporter les données depuis FTF en format cvs\n",
    "- **Veillez à bien mettre à jour xslt/tables_conversion.xsl si besoin**\n",
    "- Déposer le fichier dans /source_files/ et faire tourner le workflow ftf\n",
    "- Récupérer le fichier dans /result_files, puis\n",
    " - Vérifier encodage UTF-8 (sans BOM) \n",
    " - double-zipper en tar.gz\n",
    "- Pipe Primo delete_reload\n",
    "\n",
    "### Workflow Numilog\n",
    "- Exporter le fichier de notices Unimarc depuis le BO Numilog [https://admin.biblioaccess.com](https://admin.biblioaccess.com) (identifiants : cf wiki) → Mon catalogue → Télécharger vos notices en Unimarc\n",
    "- Opérations de conversion dans MarcEdit\n",
    " - Encoder en UTF-8 : module MarcEditor -> menu File : ouvrir le fichier .mrc -> menu Edit : sélectionner \"UTF-8 Character Map\" (puis fermer la deuxième fenêtre) -> menu File : Save\n",
    " - Conversion Unimarc ISO 2709 séquentiel .mrc en Unimarc xml : module Marc Tools -> Choisir l'opération de transformation MARC21=>MARC21XML\n",
    "- Déposer le fichier dans /source_files et faire tourner le workflow numilog\n",
    "- Récupérer le fichier dans /result_files, puis\n",
    " - Vérifier encodage UTF-8 (sans BOM) \n",
    " - double-zipper en tar.gz\n",
    "- Pipe Primo delete_reload\n",
    "\n",
    "### Worflow Cairn titre à titre\n",
    "- Conversion Marc21 ISO 2709 séquentiel .mrc en Unimarc xml avec le module MarcTools de MarcEditor\n",
    " - Ouvrir MarcEditor -> Sélectionner Marc Tools -> Choisir l'opération de transformation MARC21=>MARC21XML\n",
    "- Déposer le(s) fichier(s) dans /source_files et faire tourner le workflow cairn_titre_a_titre\n",
    "- Récupérer le(s) fichier(s) dans /result_files, puis\n",
    " - Vérifier encodage UTF-8 (sans BOM) \n",
    " - Zipper en tar\n",
    "- Pipe Primo regular\n",
    "- **Important : ne supprimer aucun fichier du serveur Aleph dans exlibris/aleph/aleph_export_2_primo/Cairn/**\n",
    "\n",
    "### Workflow Cyberlibris\n",
    "- Exporter le fichier de notices Unimarc depuis le BO Cyberlibris [https://extranet2.cyberlibris.com/index/login](https://extranet2.cyberlibris.com/index/login) (identifiants : cf wiki) → Onglet Notices\n",
    " - Choisir dans la liste Notices -> Complètes -> ISO :\n",
    "   - Scholarvox_universite_emploi__metiers_et_formation_DATE_LA_PLUS_RECENTE.Pan\n",
    "   - Scholarvox_universite_sciences_eco_gestion_DATE_LA_PLUS_RECENTE.Pan\n",
    "- Conversion Unimarc ISO 2709 séquentiel .mrc en Unimarc xml avec le module MarcTools de MarcEditor\n",
    " - Ouvrir MarcEditor -> Sélectionner Marc Tools -> Choisir l'opération de transformation MARC21=>MARC21XML\n",
    "- Déposer le(s) fichier(s) dans /source_files et faire tourner le pipe cyberlibris\n",
    "- Récupérer le(s) fichier(s) dans /result_files, puis\n",
    " - Vérifier encodage UTF-8 (sans BOM) \n",
    " - double-zipper en tar.gz\n",
    "- Pipe Primo delete_reload\n",
    "***"
   ]
  },
  {
   "cell_type": "markdown",
   "id": "1f17a906",
   "metadata": {},
   "source": [
    "***\n",
    "\n",
    "## Lancer le workflow"
   ]
  },
  {
   "cell_type": "code",
   "execution_count": 5,
   "id": "dd8eca88",
   "metadata": {},
   "outputs": [
    {
     "data": {
      "application/vnd.jupyter.widget-view+json": {
       "model_id": "75368b3e993b4979a0115a221beb1c42",
       "version_major": 2,
       "version_minor": 0
      },
      "text/plain": [
       "Dropdown(description='Choisir le workflow', layout=Layout(width='350px'), options=('ftf', 'cairn_qsj', 'cairn_…"
      ]
     },
     "metadata": {},
     "output_type": "display_data"
    },
    {
     "data": {
      "application/vnd.jupyter.widget-view+json": {
       "model_id": "8a4fef4667f74b8c9e09b73231b4401e",
       "version_major": 2,
       "version_minor": 0
      },
      "text/plain": [
       "HBox(children=(Text(value='par exemple : atoz_ftf_records.csv', description='Nom du fichier source (déposée da…"
      ]
     },
     "metadata": {},
     "output_type": "display_data"
    },
    {
     "data": {
      "application/vnd.jupyter.widget-view+json": {
       "model_id": "cdfe3e857a2644b79d0f143f222df0ce",
       "version_major": 2,
       "version_minor": 0
      },
      "text/plain": [
       "VBox(children=(Button(button_style='primary', description='Start', style=ButtonStyle()), IntProgress(value=0, …"
      ]
     },
     "metadata": {},
     "output_type": "display_data"
    }
   ],
   "source": [
    "w_options = ['ftf', 'cairn_qsj', 'cairn_titre_a_titre', 'cyberlibris', 'numilog']\n",
    "uploader = widgets.FileUpload()\n",
    "spin = widgets.IntProgress(\n",
    "    value=0,\n",
    "    min=0,\n",
    "    max=10,\n",
    "    description='Loading:',\n",
    "    bar_style='success', # 'success', 'info', 'warning', 'danger' or ''\n",
    "    style={'bar_color': 'maroon'},\n",
    "    orientation='horizontal'\n",
    ")\n",
    "workflow = widgets.Dropdown(\n",
    "    value='ftf', \n",
    "    options=w_options, \n",
    "    description='Choisir le workflow',\n",
    "    style={'description_width': 'initial'},\n",
    "    layout = Layout(width='350px')\n",
    ")\n",
    "filename = widgets.Text( \n",
    "    description='Nom du fichier source (déposée dans /source_files/)',\n",
    "    value='par exemple : atoz_ftf_records.csv',\n",
    "    style={'description_width': 'initial'},\n",
    "    layout = Layout(width='600px')\n",
    ")\n",
    "tempfiles = widgets.Checkbox(\n",
    "            value=False,\n",
    "            description='Supprimer les fichiers temporaires de traitement',\n",
    "            disabled=False,\n",
    "        )\n",
    "button = widgets.Button(description=\"Start\",button_style='primary')\n",
    "output = widgets.Output()\n",
    "\n",
    "h1 =  widgets.HBox(\n",
    "    [\n",
    "        filename, \n",
    "        tempfiles\n",
    "    ]\n",
    ")\n",
    "\n",
    "h2 = widgets.VBox(\n",
    "    [\n",
    "        button,\n",
    "        spin, \n",
    "        output\n",
    "    ]\n",
    ")\n",
    "\n",
    "display(workflow,h1,h2)\n",
    "\n",
    "def file_path(relative_path):\n",
    "    folder = os.path.dirname(os.path.abspath(\"__file__\"))\n",
    "    path_parts = relative_path.split(\"/\")\n",
    "    new_path = os.path.join(folder, *path_parts)\n",
    "    return new_path\n",
    "\n",
    "def on_button_clicked(b):\n",
    "    with output:\n",
    "        clear_output()\n",
    "        if workflow.value == \"ftf\":\n",
    "            spin.value = 5\n",
    "            %run execute_workflow.py -w:ftf -f:{filename.value} \n",
    "            spin.value = 10\n",
    "            if str(tempfiles.value) == \"True\":\n",
    "                os.system(\"rm -rf temporary_files/\")\n",
    "                print('temp ftf file deleted')\n",
    "            '''df = pd.read_csv(\"source_files/\"+filename.value, sep=',', encoding='utf8')\n",
    "            spin.value = 1\n",
    "            #clean\n",
    "            df = df.drop(atoz_cols_to_remove, axis=1).fillna(\"\").replace(\"&\", \"&amp;\")\n",
    "            spin.value = 2\n",
    "            # custom bsc cleaning\n",
    "            df.drop(df[(df.PackageName == 'Business Source Complete') & ((df.ResourceType == 'Report') | (df.ResourceType == 'Book Series'))].index, inplace=True)\n",
    "            spin.value = 3\n",
    "            df.to_xml(path_or_buffer=\"temporary_files/atoz_export.xml\", root_name='Resources', row_name='Resource', encoding='utf-8', xml_declaration=True, pretty_print=True, parser='lxml')\n",
    "            spin.value = 4\n",
    "            print(subprocess.run([\"run_saxon.bat\",file_path(\"xslt/atoztemp4primo.xsl\"),file_path(\"temporary_files/atoz_export.xml\"),file_path(\"result_files/atoz.xml\")], shell=True, check=True, capture_output=True))\n",
    "            spin.value = 5\n",
    "            '''\n",
    "            \n",
    "        if workflow.value == \"numilog\":\n",
    "            spin.value = 5\n",
    "            %run execute_workflow.py -w:numilog -f:{filename.value}\n",
    "            spin.value = 10\n",
    "            \n",
    "        if workflow.value == \"cairn_titre_a_titre\":\n",
    "            spin.value = 5\n",
    "            %run execute_workflow.py -w:cairn_titre_a_titre -f:{filename.value}\n",
    "            spin.value = 10\n",
    "            \n",
    "        if workflow.value == \"cyberlibris\":\n",
    "            spin.value = 5\n",
    "            %run execute_workflow.py -w:cyberlibris -f:{filename.value}\n",
    "            spin.value = 10\n",
    "\n",
    "button.on_click(on_button_clicked) "
   ]
  },
  {
   "cell_type": "markdown",
   "id": "20bd094d",
   "metadata": {},
   "source": [
    "***"
   ]
  },
  {
   "cell_type": "markdown",
   "id": "f22525cd-27a2-4628-9edf-a54ef75e82cf",
   "metadata": {},
   "source": [
    "***\n",
    "\n",
    "## Récupérer le fichier résultat\n",
    "\n",
    "Tous les fichiers résultats sont récupérables dans /result_files/ : cliquer sur \"Voir les fichiers du répertoire /result_files\" pour aficher la liste des fichiers (ou actualiser le liste)\n",
    "- Voir le contenu : clic sur le lien du fichier\n",
    "- Télécharger le fichier : clic droit sur le lien \n",
    " - Firefox : -> Enregistrer la cible du lien sous ...\n",
    " - Chrome : -> Enregistrer le lien sous ..."
   ]
  },
  {
   "cell_type": "code",
   "execution_count": 17,
   "id": "5497a72f",
   "metadata": {},
   "outputs": [
    {
     "data": {
      "application/vnd.jupyter.widget-view+json": {
       "model_id": "a30f7e1f4ea740c98be4d0fddf03d4c4",
       "version_major": 2,
       "version_minor": 0
      },
      "text/plain": [
       "Button(button_style='success', description='Voir les fichiers du répertoire /result_files', layout=Layout(widt…"
      ]
     },
     "metadata": {},
     "output_type": "display_data"
    },
    {
     "data": {
      "application/vnd.jupyter.widget-view+json": {
       "model_id": "644260fdd0e6465abd961599e154d6d6",
       "version_major": 2,
       "version_minor": 0
      },
      "text/plain": [
       "Output()"
      ]
     },
     "metadata": {},
     "output_type": "display_data"
    }
   ],
   "source": [
    "filelinks_button = widgets.Button(description=\"Voir les fichiers du répertoire /result_files\",\n",
    "                                  button_style='success',\n",
    "                                  layout = Layout(width='300px'))\n",
    "filelinks_output = widgets.Output()\n",
    "def on_flbutton_clicked(b):\n",
    "    with filelinks_output:\n",
    "        display(FileLinks(\"result_files/\"))\n",
    "filelinks_button.on_click(on_flbutton_clicked) \n",
    "\n",
    "display(filelinks_button,filelinks_output)"
   ]
  },
  {
   "cell_type": "markdown",
   "id": "92bb01d9",
   "metadata": {},
   "source": [
    "***"
   ]
  }
 ],
 "metadata": {
  "interpreter": {
   "hash": "a2f52d1f06e5794af4202f0dfb0c9375d4573225d02bc5ad39c628842eaab6fd"
  },
  "kernelspec": {
   "display_name": "Python 3 (ipykernel)",
   "language": "python",
   "name": "python3"
  },
  "language_info": {
   "codemirror_mode": {
    "name": "ipython",
    "version": 3
   },
   "file_extension": ".py",
   "mimetype": "text/x-python",
   "name": "python",
   "nbconvert_exporter": "python",
   "pygments_lexer": "ipython3",
   "version": "3.8.11"
  },
  "varInspector": {
   "cols": {
    "lenName": 16,
    "lenType": 16,
    "lenVar": 40
   },
   "kernels_config": {
    "python": {
     "delete_cmd_postfix": "",
     "delete_cmd_prefix": "del ",
     "library": "var_list.py",
     "varRefreshCmd": "print(var_dic_list())"
    },
    "r": {
     "delete_cmd_postfix": ") ",
     "delete_cmd_prefix": "rm(",
     "library": "var_list.r",
     "varRefreshCmd": "cat(var_dic_list()) "
    }
   },
   "types_to_exclude": [
    "module",
    "function",
    "builtin_function_or_method",
    "instance",
    "_Feature"
   ],
   "window_display": false
  }
 },
 "nbformat": 4,
 "nbformat_minor": 5
}
