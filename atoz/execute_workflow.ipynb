{
 "cells": [
  {
   "cell_type": "code",
   "execution_count": 15,
   "id": "6f1afbc9-daae-43d8-9d5f-9261af464cdb",
   "metadata": {},
   "outputs": [],
   "source": [
    "import numpy as np\n",
    "import pandas as pd\n",
    "import os\n",
    "import subprocess\n",
    "# need pandas version >= 1.3"
   ]
  },
  {
   "cell_type": "markdown",
   "id": "9f331afc-ce47-45cf-a412-11735a6851c1",
   "metadata": {},
   "source": [
    "# Test de workflow FTF -> Primo avec Python"
   ]
  },
  {
   "cell_type": "code",
   "execution_count": 8,
   "id": "65aee3c5-1ff7-4bf6-9be5-f7bf2a4f0327",
   "metadata": {},
   "outputs": [
    {
     "data": {
      "text/plain": [
       "(144279, 41)"
      ]
     },
     "execution_count": 8,
     "metadata": {},
     "output_type": "execute_result"
    }
   ],
   "source": [
    "df = pd.read_csv(\"atoz_export.csv\", sep=',', encoding='utf8')\n",
    "df.shape"
   ]
  },
  {
   "cell_type": "code",
   "execution_count": 9,
   "id": "57a0ce10-8dcb-4fbf-97dd-26150298dbc0",
   "metadata": {},
   "outputs": [],
   "source": [
    "cols_to_remove = ['Edition','Editor', 'Illustrator', 'DOI', 'PeerReviewed','CustomCoverageBegin',\n",
    "       'CustomCoverageEnd', 'CoverageStatement', 'Embargo', 'CustomEmbargo',\n",
    "       'Description', 'Subject', 'PackageContentType',\n",
    "       'CreateCustom', 'HideOnPublicationFinder', 'Delete',\n",
    "       'OrderedThroughEBSCO', 'IsCustom', 'UserDefinedField1',\n",
    "       'UserDefinedField2', 'UserDefinedField3', 'UserDefinedField4',\n",
    "       'UserDefinedField5', 'PackageType', 'AllowEbscoToAddNewTitles',\n",
    "       'Unnamed: 40']"
   ]
  },
  {
   "cell_type": "code",
   "execution_count": 10,
   "id": "7c3bffb1-37fa-4fad-bde7-69c317be4b75",
   "metadata": {},
   "outputs": [
    {
     "data": {
      "text/plain": [
       "(144279, 15)"
      ]
     },
     "execution_count": 10,
     "metadata": {},
     "output_type": "execute_result"
    }
   ],
   "source": [
    "df = df.drop(cols_to_remove, axis=1).fillna(\"\").replace(\"&\", \"&amp;\")\n",
    "df.shape"
   ]
  },
  {
   "cell_type": "code",
   "execution_count": 11,
   "id": "a18da3f7-6c38-4657-82fb-26dc7b672f6b",
   "metadata": {},
   "outputs": [
    {
     "data": {
      "text/plain": [
       "(103874, 15)"
      ]
     },
     "execution_count": 11,
     "metadata": {},
     "output_type": "execute_result"
    }
   ],
   "source": [
    "#contrôle spécial BSC\n",
    "df.drop(df[(df.PackageName == 'Business Source Complete') & ((df.ResourceType == 'Report') | (df.ResourceType == 'Book Series'))].index, inplace=True)\n",
    "df.shape"
   ]
  },
  {
   "cell_type": "code",
   "execution_count": 35,
   "id": "7bd870e8-011b-4c46-ae23-b9bdb694910c",
   "metadata": {},
   "outputs": [
    {
     "data": {
      "text/html": [
       "<div>\n",
       "<style scoped>\n",
       "    .dataframe tbody tr th:only-of-type {\n",
       "        vertical-align: middle;\n",
       "    }\n",
       "\n",
       "    .dataframe tbody tr th {\n",
       "        vertical-align: top;\n",
       "    }\n",
       "\n",
       "    .dataframe thead th {\n",
       "        text-align: right;\n",
       "    }\n",
       "</style>\n",
       "<table border=\"1\" class=\"dataframe\">\n",
       "  <thead>\n",
       "    <tr style=\"text-align: right;\">\n",
       "      <th></th>\n",
       "      <th>KBID</th>\n",
       "      <th>Title</th>\n",
       "      <th>AlternateTitle</th>\n",
       "      <th>PackageName</th>\n",
       "      <th>URL</th>\n",
       "      <th>ProxiedURL</th>\n",
       "      <th>Publisher</th>\n",
       "      <th>Author</th>\n",
       "      <th>PrintISSN</th>\n",
       "      <th>OnlineISSN</th>\n",
       "      <th>PrintISBN</th>\n",
       "      <th>OnlineISBN</th>\n",
       "      <th>ManagedCoverageBegin</th>\n",
       "      <th>ManagedCoverageEnd</th>\n",
       "      <th>ResourceType</th>\n",
       "    </tr>\n",
       "  </thead>\n",
       "  <tbody>\n",
       "    <tr>\n",
       "      <th>0</th>\n",
       "      <td>39260</td>\n",
       "      <td>The Journal of Biological Chemistry</td>\n",
       "      <td>J Biol Chem|JBC|JBC online|JBC papers in press...</td>\n",
       "      <td>Publisher's Site</td>\n",
       "      <td>https://www.jbc.org/issues</td>\n",
       "      <td>http://proxy.unice.fr/login?url=https://www.jb...</td>\n",
       "      <td>American Society for Biochemistry and Molecula...</td>\n",
       "      <td></td>\n",
       "      <td>0021-9258</td>\n",
       "      <td>1083-351X</td>\n",
       "      <td></td>\n",
       "      <td></td>\n",
       "      <td>1905-10-01</td>\n",
       "      <td>Present</td>\n",
       "      <td>Journal</td>\n",
       "    </tr>\n",
       "    <tr>\n",
       "      <th>1</th>\n",
       "      <td>45145</td>\n",
       "      <td>Language</td>\n",
       "      <td>Language|Language (Baltim)</td>\n",
       "      <td>Publisher's Site</td>\n",
       "      <td>https://muse.jhu.edu/journal/112</td>\n",
       "      <td>http://proxy.unice.fr/login?url=https://muse.j...</td>\n",
       "      <td>Linguistic Society of America</td>\n",
       "      <td></td>\n",
       "      <td>0097-8507</td>\n",
       "      <td>1535-0665</td>\n",
       "      <td></td>\n",
       "      <td></td>\n",
       "      <td>1974-12-01</td>\n",
       "      <td>Present</td>\n",
       "      <td>Journal</td>\n",
       "    </tr>\n",
       "    <tr>\n",
       "      <th>2</th>\n",
       "      <td>59379</td>\n",
       "      <td>Radiology</td>\n",
       "      <td>Radiology|放射学</td>\n",
       "      <td>Publisher's Site</td>\n",
       "      <td>https://pubs.rsna.org/loi/radiology</td>\n",
       "      <td>http://proxy.unice.fr/login?url=https://pubs.r...</td>\n",
       "      <td>Radiological Society of North America</td>\n",
       "      <td></td>\n",
       "      <td>0033-8419</td>\n",
       "      <td>1527-1315</td>\n",
       "      <td></td>\n",
       "      <td></td>\n",
       "      <td>1923-09-01</td>\n",
       "      <td>Present</td>\n",
       "      <td>Journal</td>\n",
       "    </tr>\n",
       "    <tr>\n",
       "      <th>3</th>\n",
       "      <td>93117</td>\n",
       "      <td>Sciences et Avenir</td>\n",
       "      <td>Sci Avenir|Sciences &amp; avenir|Sciences et Aveni...</td>\n",
       "      <td>Publisher's Site</td>\n",
       "      <td>https://www.sciencesetavenir.fr/</td>\n",
       "      <td>https://www.sciencesetavenir.fr/</td>\n",
       "      <td>Sciences et Avenir</td>\n",
       "      <td></td>\n",
       "      <td>0036-8636</td>\n",
       "      <td></td>\n",
       "      <td></td>\n",
       "      <td></td>\n",
       "      <td></td>\n",
       "      <td></td>\n",
       "      <td>Journal</td>\n",
       "    </tr>\n",
       "    <tr>\n",
       "      <th>4</th>\n",
       "      <td>95960</td>\n",
       "      <td>Usine Nouvelle</td>\n",
       "      <td>L'Usine nouvelle|L'Usine Nouvelle (French Lang...</td>\n",
       "      <td>Publisher's Site</td>\n",
       "      <td>https://www.usinenouvelle.com/archives/2020</td>\n",
       "      <td>http://proxy.unice.fr/login?url=https://www.us...</td>\n",
       "      <td>Cepit Groupe Usine Nouvelle</td>\n",
       "      <td></td>\n",
       "      <td>0042-126X</td>\n",
       "      <td></td>\n",
       "      <td></td>\n",
       "      <td></td>\n",
       "      <td>1994-01-06</td>\n",
       "      <td>Present</td>\n",
       "      <td>Journal</td>\n",
       "    </tr>\n",
       "  </tbody>\n",
       "</table>\n",
       "</div>"
      ],
      "text/plain": [
       "    KBID                                Title  \\\n",
       "0  39260  The Journal of Biological Chemistry   \n",
       "1  45145                             Language   \n",
       "2  59379                            Radiology   \n",
       "3  93117                   Sciences et Avenir   \n",
       "4  95960                       Usine Nouvelle   \n",
       "\n",
       "                                      AlternateTitle       PackageName  \\\n",
       "0  J Biol Chem|JBC|JBC online|JBC papers in press...  Publisher's Site   \n",
       "1                         Language|Language (Baltim)  Publisher's Site   \n",
       "2                                      Radiology|放射学  Publisher's Site   \n",
       "3  Sci Avenir|Sciences & avenir|Sciences et Aveni...  Publisher's Site   \n",
       "4  L'Usine nouvelle|L'Usine Nouvelle (French Lang...  Publisher's Site   \n",
       "\n",
       "                                           URL  \\\n",
       "0                   https://www.jbc.org/issues   \n",
       "1             https://muse.jhu.edu/journal/112   \n",
       "2          https://pubs.rsna.org/loi/radiology   \n",
       "3             https://www.sciencesetavenir.fr/   \n",
       "4  https://www.usinenouvelle.com/archives/2020   \n",
       "\n",
       "                                          ProxiedURL  \\\n",
       "0  http://proxy.unice.fr/login?url=https://www.jb...   \n",
       "1  http://proxy.unice.fr/login?url=https://muse.j...   \n",
       "2  http://proxy.unice.fr/login?url=https://pubs.r...   \n",
       "3                   https://www.sciencesetavenir.fr/   \n",
       "4  http://proxy.unice.fr/login?url=https://www.us...   \n",
       "\n",
       "                                           Publisher Author  PrintISSN  \\\n",
       "0  American Society for Biochemistry and Molecula...         0021-9258   \n",
       "1                      Linguistic Society of America         0097-8507   \n",
       "2              Radiological Society of North America         0033-8419   \n",
       "3                                 Sciences et Avenir         0036-8636   \n",
       "4                        Cepit Groupe Usine Nouvelle         0042-126X   \n",
       "\n",
       "  OnlineISSN PrintISBN OnlineISBN ManagedCoverageBegin ManagedCoverageEnd  \\\n",
       "0  1083-351X                                1905-10-01            Present   \n",
       "1  1535-0665                                1974-12-01            Present   \n",
       "2  1527-1315                                1923-09-01            Present   \n",
       "3                                                                           \n",
       "4                                           1994-01-06            Present   \n",
       "\n",
       "  ResourceType  \n",
       "0      Journal  \n",
       "1      Journal  \n",
       "2      Journal  \n",
       "3      Journal  \n",
       "4      Journal  "
      ]
     },
     "execution_count": 35,
     "metadata": {},
     "output_type": "execute_result"
    }
   ],
   "source": [
    "df.head()"
   ]
  },
  {
   "cell_type": "code",
   "execution_count": 12,
   "id": "4a9fc21b-dd3d-4478-b1d4-8e34d05083d1",
   "metadata": {},
   "outputs": [],
   "source": [
    "df.to_xml(path_or_buffer=\"atoz_export.xml\", root_name='Resources', row_name='Resource', encoding='utf-8', xml_declaration=True, pretty_print=True, parser='lxml')"
   ]
  },
  {
   "cell_type": "code",
   "execution_count": 2,
   "id": "3961c65c-aa9a-4a6e-b24b-9b21afac83ab",
   "metadata": {},
   "outputs": [],
   "source": [
    "def file_path(relative_path):\n",
    "    folder = os.path.dirname(os.path.abspath(\"__file__\"))\n",
    "    path_parts = relative_path.split(\"/\")\n",
    "    new_path = os.path.join(folder, *path_parts)\n",
    "    return new_path\n",
    "\n",
    "def transform(xml_file, xsl_file, output_file):\n",
    "    \"\"\"all args take relative paths from Python script\"\"\"\n",
    "    input = file_path(xml_file)\n",
    "    output = file_path(output_file)\n",
    "    xslt = file_path(xsl_file)\n",
    "    #input = file_path(\"atoz/temp_processing_files/atoz_export.xml\")\n",
    "    #output = file_path(\"atoz/result_files/atoz.xml\")\n",
    "    #xslt = file_path(\"atoz/xslt/atoztemp4primo.xsl\")"
   ]
  },
  {
   "cell_type": "code",
   "execution_count": 3,
   "id": "2742d322-cfe3-4922-ba3a-bb542e9f3257",
   "metadata": {},
   "outputs": [
    {
     "data": {
      "text/plain": [
       "'C:\\\\Users\\\\BUNICE\\\\Documents\\\\GitHub\\\\XSLT_signalement_docelec\\\\atoz\\\\atoz_export.xml'"
      ]
     },
     "execution_count": 3,
     "metadata": {},
     "output_type": "execute_result"
    }
   ],
   "source": [
    "file_path(\"atoz_export.xml\")"
   ]
  },
  {
   "cell_type": "code",
   "execution_count": 23,
   "id": "f3d9cea1-799e-43bb-8150-c40938fe71f8",
   "metadata": {},
   "outputs": [
    {
     "data": {
      "text/plain": [
       "CompletedProcess(args=['run_saxon.bat', 'atoztemp4primo.xsl', 'atoz_export.xml', 'atoz.xml'], returncode=0, stdout=b'', stderr=b'')"
      ]
     },
     "execution_count": 23,
     "metadata": {},
     "output_type": "execute_result"
    }
   ],
   "source": [
    "subprocess.run([\"run_saxon.bat\",\"atoztemp4primo.xsl\",\"atoz_export.xml\",\"atoz.xml\"], shell=True, check=True, capture_output=True)"
   ]
  },
  {
   "cell_type": "code",
   "execution_count": null,
   "id": "55cccb4f-e710-4263-a8eb-7266d6f2d6fe",
   "metadata": {},
   "outputs": [],
   "source": []
  }
 ],
 "metadata": {
  "kernelspec": {
   "display_name": "venv",
   "language": "python",
   "name": "venv"
  },
  "language_info": {
   "codemirror_mode": {
    "name": "ipython",
    "version": 3
   },
   "file_extension": ".py",
   "mimetype": "text/x-python",
   "name": "python",
   "nbconvert_exporter": "python",
   "pygments_lexer": "ipython3",
   "version": "3.7.4"
  },
  "varInspector": {
   "cols": {
    "lenName": 16,
    "lenType": 16,
    "lenVar": 40
   },
   "kernels_config": {
    "python": {
     "delete_cmd_postfix": "",
     "delete_cmd_prefix": "del ",
     "library": "var_list.py",
     "varRefreshCmd": "print(var_dic_list())"
    },
    "r": {
     "delete_cmd_postfix": ") ",
     "delete_cmd_prefix": "rm(",
     "library": "var_list.r",
     "varRefreshCmd": "cat(var_dic_list()) "
    }
   },
   "types_to_exclude": [
    "module",
    "function",
    "builtin_function_or_method",
    "instance",
    "_Feature"
   ],
   "window_display": false
  }
 },
 "nbformat": 4,
 "nbformat_minor": 5
}
