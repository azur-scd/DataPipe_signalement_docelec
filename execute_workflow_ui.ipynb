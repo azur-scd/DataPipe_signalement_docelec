{
 "cells": [
  {
   "cell_type": "code",
   "execution_count": 1,
   "id": "6f1afbc9-daae-43d8-9d5f-9261af464cdb",
   "metadata": {},
   "outputs": [],
   "source": [
    "import numpy as np\n",
    "import pandas as pd\n",
    "import ipywidgets as widgets\n",
    "from ipywidgets import Layout,GridspecLayout,interact, interact_manual,IntProgress,VBox,HBox,Button, ButtonStyle, Output, FileUpload\n",
    "from IPython.display import display, clear_output\n",
    "import os\n",
    "import subprocess\n",
    "import lxml\n",
    "# need pandas version >= 1.3"
   ]
  },
  {
   "cell_type": "markdown",
   "id": "2405d692-0580-4d59-9bb2-9fa9fa50c770",
   "metadata": {},
   "source": [
    "# [DataPipe_signalement_docelec] Procédures automatisées de signalement de la documentation électronique"
   ]
  },
  {
   "cell_type": "markdown",
   "id": "86073564-6f76-4c48-815a-6fc7819f40e6",
   "metadata": {},
   "source": [
    "## Lancer un workflow"
   ]
  },
  {
   "cell_type": "markdown",
   "id": "a1d22d4f-38ef-42ac-96e5-1e53ac67f4a1",
   "metadata": {},
   "source": [
    "**Attention : pour le workflow ftf, veiller à bien mettre à jour xslt/tables_conversion.xsl si besoin**"
   ]
  },
  {
   "cell_type": "code",
   "execution_count": 3,
   "id": "fa0289d2-9988-44bd-9d7b-af58c32881c9",
   "metadata": {},
   "outputs": [
    {
     "data": {
      "application/vnd.jupyter.widget-view+json": {
       "model_id": "9555b482080948aeb2406a97a04deabb",
       "version_major": 2,
       "version_minor": 0
      },
      "text/plain": [
       "HBox(children=(Dropdown(description='Wotkflow select', layout=Layout(width='35%'), options=('ftf', 'cairn_qsj'…"
      ]
     },
     "metadata": {},
     "output_type": "display_data"
    },
    {
     "data": {
      "application/vnd.jupyter.widget-view+json": {
       "model_id": "70191bcc596f4d42b5d2047918f2a0e4",
       "version_major": 2,
       "version_minor": 0
      },
      "text/plain": [
       "HBox(children=(Checkbox(value=False, description='Delete temporary files'), Button(description='Launch!', styl…"
      ]
     },
     "metadata": {},
     "output_type": "display_data"
    },
    {
     "data": {
      "application/vnd.jupyter.widget-view+json": {
       "model_id": "ead036adaf8d46efae3fd95afcb38516",
       "version_major": 2,
       "version_minor": 0
      },
      "text/plain": [
       "VBox(children=(IntProgress(value=0, bar_style='success', description='Loading:', max=10, style=ProgressStyle(b…"
      ]
     },
     "metadata": {},
     "output_type": "display_data"
    }
   ],
   "source": [
    "w_options = ['ftf', 'cairn_qsj', 'cairn_titre_a_titre', 'cyberlibris', 'numilog']\n",
    "atoz_cols_to_remove = ['Edition','Editor', 'Illustrator', 'DOI', 'PeerReviewed','CustomCoverageBegin',\n",
    "       'CustomCoverageEnd', 'CoverageStatement', 'Embargo', 'CustomEmbargo',\n",
    "       'Description', 'Subject', 'PackageContentType',\n",
    "       'CreateCustom', 'HideOnPublicationFinder', 'Delete',\n",
    "       'OrderedThroughEBSCO', 'IsCustom', 'UserDefinedField1',\n",
    "       'UserDefinedField2', 'UserDefinedField3', 'UserDefinedField4',\n",
    "       'UserDefinedField5', 'PackageType', 'AllowEbscoToAddNewTitles',\n",
    "       'Unnamed: 40']\n",
    "spin = widgets.IntProgress(\n",
    "    value=0,\n",
    "    min=0,\n",
    "    max=10,\n",
    "    description='Loading:',\n",
    "    bar_style='success', # 'success', 'info', 'warning', 'danger' or ''\n",
    "    style={'bar_color': 'maroon'},\n",
    "    orientation='horizontal'\n",
    ")\n",
    "workflow = widgets.Dropdown(\n",
    "    value='ftf', \n",
    "    options=w_options, \n",
    "    description='Choisir le workflow',\n",
    "    style={'description_width': 'initial'},\n",
    "    layout = Layout(width='350px')\n",
    ")\n",
    "filename = widgets.Text( \n",
    "    description='Nom du fichier source (déposée dans /source_files/)',\n",
    "    value='par exemple : atoz_ftf_records.csv',\n",
    "    style={'description_width': 'initial'},\n",
    "    layout = Layout(width='600px')\n",
    ")\n",
    "tempfiles = widgets.Checkbox(\n",
    "            value=False,\n",
    "            description='Supprimer les fichiers temporaires de traitement',\n",
    "            disabled=False,\n",
    "        )\n",
    "button = widgets.Button(description=\"Start\",button_style='primary')\n",
    "output = widgets.Output()\n",
    "\n",
    "h1 =  widgets.HBox(\n",
    "    [\n",
    "        filename, \n",
    "        tempfiles\n",
    "    ]\n",
    ")\n",
    "\n",
    "h2 = widgets.VBox(\n",
    "    [\n",
    "        button,\n",
    "        spin, \n",
    "        output\n",
    "    ]\n",
    ")\n",
    "\n",
    "display(workflow,h1,h2)\n",
    "def file_path(relative_path):\n",
    "    folder = os.path.dirname(os.path.abspath(\"__file__\"))\n",
    "    path_parts = relative_path.split(\"/\")\n",
    "    new_path = os.path.join(folder, *path_parts)\n",
    "    return new_path\n",
    "\n",
    "def on_button_clicked(b):\n",
    "    with output:\n",
    "        clear_output()\n",
    "        if workflow.value == \"ftf\":\n",
    "            spin.value = 5\n",
    "            %run execute_workflow.py -w:atoz -f:{filename.value} \n",
    "            spin.value = 10\n",
    "            if str(tempfiles.value) == \"True\":\n",
    "                os.system(\"rm -rf temporary_files/\")\n",
    "                print('temp atoz file deleted')\n",
    "            '''df = pd.read_csv(\"source_files/\"+filename.value, sep=',', encoding='utf8')\n",
    "            spin.value = 1\n",
    "            #clean\n",
    "            df = df.drop(atoz_cols_to_remove, axis=1).fillna(\"\").replace(\"&\", \"&amp;\")\n",
    "            spin.value = 2\n",
    "            # custom bsc cleaning\n",
    "            df.drop(df[(df.PackageName == 'Business Source Complete') & ((df.ResourceType == 'Report') | (df.ResourceType == 'Book Series'))].index, inplace=True)\n",
    "            spin.value = 3\n",
    "            df.to_xml(path_or_buffer=\"temporary_files/atoz_export.xml\", root_name='Resources', row_name='Resource', encoding='utf-8', xml_declaration=True, pretty_print=True, parser='lxml')\n",
    "            spin.value = 4\n",
    "            print(subprocess.run([\"run_saxon.bat\",file_path(\"xslt/atoztemp4primo.xsl\"),file_path(\"temporary_files/atoz_export.xml\"),file_path(\"result_files/atoz.xml\")], shell=True, check=True, capture_output=True))\n",
    "            spin.value = 5\n",
    "            '''\n",
    "            \n",
    "        if workflow.value == \"numilog\":\n",
    "            spin.value = 5\n",
    "            %run execute_workflow.py -w:numilog -f:{filename.value}\n",
    "            spin.value = 10\n",
    "\n",
    "button.on_click(on_button_clicked) "
   ]
  },
  {
   "cell_type": "markdown",
   "id": "f22525cd-27a2-4628-9edf-a54ef75e82cf",
   "metadata": {},
   "source": [
    "## Résultat\n",
    "\n",
    "Le fichier résultat en xml (portant le nom du workflow utilisé) est récupérable dans DataPipe_signalement_docelec/result_files/"
   ]
  }
 ],
 "metadata": {
  "kernelspec": {
   "display_name": "Python 3",
   "language": "python",
   "name": "python3"
  },
  "language_info": {
   "codemirror_mode": {
    "name": "ipython",
    "version": 3
   },
   "file_extension": ".py",
   "mimetype": "text/x-python",
   "name": "python",
   "nbconvert_exporter": "python",
   "pygments_lexer": "ipython3",
   "version": "3.7.4"
  },
  "varInspector": {
   "cols": {
    "lenName": 16,
    "lenType": 16,
    "lenVar": 40
   },
   "kernels_config": {
    "python": {
     "delete_cmd_postfix": "",
     "delete_cmd_prefix": "del ",
     "library": "var_list.py",
     "varRefreshCmd": "print(var_dic_list())"
    },
    "r": {
     "delete_cmd_postfix": ") ",
     "delete_cmd_prefix": "rm(",
     "library": "var_list.r",
     "varRefreshCmd": "cat(var_dic_list()) "
    }
   },
   "types_to_exclude": [
    "module",
    "function",
    "builtin_function_or_method",
    "instance",
    "_Feature"
   ],
   "window_display": false
  }
 },
 "nbformat": 4,
 "nbformat_minor": 5
}
