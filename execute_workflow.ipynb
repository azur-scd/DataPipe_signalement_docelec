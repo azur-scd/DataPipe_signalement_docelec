{
 "cells": [
  {
   "cell_type": "code",
   "execution_count": 100,
   "id": "6f1afbc9-daae-43d8-9d5f-9261af464cdb",
   "metadata": {},
   "outputs": [],
   "source": [
    "import numpy as np\n",
    "import pandas as pd\n",
    "import ipywidgets as widgets\n",
    "from ipywidgets import Layout,GridspecLayout,interact, interact_manual,VBox,HBox,Button, ButtonStyle, Output, FileUpload\n",
    "from IPython.display import display, clear_output\n",
    "import os\n",
    "import subprocess\n",
    "import lxml\n",
    "# need pandas version >= 1.3"
   ]
  },
  {
   "cell_type": "markdown",
   "id": "6e83e6fc-4882-4a70-8586-13bcb654c32b",
   "metadata": {},
   "source": [
    "## Choisir le workflow à lancer"
   ]
  },
  {
   "cell_type": "markdown",
   "id": "a1d22d4f-38ef-42ac-96e5-1e53ac67f4a1",
   "metadata": {},
   "source": [
    "**Attention : si atoz, veiller à bien mettre à jour xslt/tables_conversion.xsl si besoin**\n",
    "**Attention : ne pas oublier de modifier le path de tables_conversion dans la feuille de style atoz**"
   ]
  },
  {
   "cell_type": "code",
   "execution_count": null,
   "id": "fa0289d2-9988-44bd-9d7b-af58c32881c9",
   "metadata": {},
   "outputs": [],
   "source": [
    "atoz_cols_to_remove = ['Edition','Editor', 'Illustrator', 'DOI', 'PeerReviewed','CustomCoverageBegin',\n",
    "       'CustomCoverageEnd', 'CoverageStatement', 'Embargo', 'CustomEmbargo',\n",
    "       'Description', 'Subject', 'PackageContentType',\n",
    "       'CreateCustom', 'HideOnPublicationFinder', 'Delete',\n",
    "       'OrderedThroughEBSCO', 'IsCustom', 'UserDefinedField1',\n",
    "       'UserDefinedField2', 'UserDefinedField3', 'UserDefinedField4',\n",
    "       'UserDefinedField5', 'PackageType', 'AllowEbscoToAddNewTitles',\n",
    "       'Unnamed: 40']\n",
    "\n",
    "workflow = widgets.Dropdown(\n",
    "    value='atoz', \n",
    "    options=['atoz', 'cairn_qsj', 'cairn_titre_a_titre', 'cyberlibris', 'numilog'], \n",
    "    description='Wotkflow select',\n",
    "    style={'description_width': 'initial'},\n",
    "    layout = Layout(width='50%')\n",
    ")\n",
    "filename = widgets.Text( \n",
    "    description='File name in /source_files/ (ex : atoz_export.csv)',\n",
    "    style={'description_width': 'initial'},\n",
    "    layout = Layout(width='80%')\n",
    ")\n",
    "button = widgets.Button(description=\"Launch!\")\n",
    "output = widgets.Output()\n",
    "\n",
    "display(workflow,filename,button, output)\n",
    "\n",
    "def file_path(relative_path):\n",
    "    folder = os.path.dirname(os.path.abspath(\"__file__\"))\n",
    "    path_parts = relative_path.split(\"/\")\n",
    "    new_path = os.path.join(folder, *path_parts)\n",
    "    return new_path\n",
    "\n",
    "def on_button_clicked(b):\n",
    "    with output:\n",
    "        clear_output()\n",
    "        if workflow.value == \"atoz\":\n",
    "            df = pd.read_csv(\"source_files/\"+filename.value, sep=',', encoding='utf8')\n",
    "            #clean\n",
    "            df = df.drop(atoz_cols_to_remove, axis=1).fillna(\"\").replace(\"&\", \"&amp;\")\n",
    "            # custom bsc cleaning\n",
    "            df.drop(df[(df.PackageName == 'Business Source Complete') & ((df.ResourceType == 'Report') | (df.ResourceType == 'Book Series'))].index, inplace=True)\n",
    "            df.to_xml(path_or_buffer=\"temporary_files/atoz_export.xml\", root_name='Resources', row_name='Resource', encoding='utf-8', xml_declaration=True, pretty_print=True, parser='lxml')\n",
    "            print(subprocess.run([\"run_saxon.bat\",file_path(\"xslt/atoztemp4primo.xsl\"),file_path(\"temporary_files/atoz_export.xml\"),file_path(\"result_files/atoz.xml\")], shell=True, check=True, capture_output=True))\n",
    "        if workflow.value == \"cairn_titre_a_titre\":\n",
    "            print(\"Attention passer dans MArcEdit d'abord\")\n",
    "\n",
    "button.on_click(on_button_clicked) "
   ]
  },
  {
   "cell_type": "code",
   "execution_count": null,
   "id": "f4c8f8b3-e5bb-4ff3-b6e4-3348001281d9",
   "metadata": {},
   "outputs": [],
   "source": []
  }
 ],
 "metadata": {
  "kernelspec": {
   "display_name": "venv_signalement",
   "language": "python",
   "name": "venv_signalement"
  },
  "language_info": {
   "codemirror_mode": {
    "name": "ipython",
    "version": 3
   },
   "file_extension": ".py",
   "mimetype": "text/x-python",
   "name": "python",
   "nbconvert_exporter": "python",
   "pygments_lexer": "ipython3",
   "version": "3.8.11"
  },
  "varInspector": {
   "cols": {
    "lenName": 16,
    "lenType": 16,
    "lenVar": 40
   },
   "kernels_config": {
    "python": {
     "delete_cmd_postfix": "",
     "delete_cmd_prefix": "del ",
     "library": "var_list.py",
     "varRefreshCmd": "print(var_dic_list())"
    },
    "r": {
     "delete_cmd_postfix": ") ",
     "delete_cmd_prefix": "rm(",
     "library": "var_list.r",
     "varRefreshCmd": "cat(var_dic_list()) "
    }
   },
   "types_to_exclude": [
    "module",
    "function",
    "builtin_function_or_method",
    "instance",
    "_Feature"
   ],
   "window_display": false
  }
 },
 "nbformat": 4,
 "nbformat_minor": 5
}
