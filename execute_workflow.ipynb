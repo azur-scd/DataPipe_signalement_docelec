{
 "cells": [
  {
   "cell_type": "code",
   "execution_count": 46,
   "id": "6f1afbc9-daae-43d8-9d5f-9261af464cdb",
   "metadata": {},
   "outputs": [],
   "source": [
    "import numpy as np\n",
    "import pandas as pd\n",
    "import ipywidgets as widgets\n",
    "from ipywidgets import Layout,GridspecLayout,interact, interact_manual,IntProgress,VBox,HBox,Button, ButtonStyle, Output, FileUpload\n",
    "from IPython.display import display, clear_output\n",
    "import os\n",
    "import subprocess\n",
    "import lxml\n",
    "import execute_workflow\n",
    "# need pandas version >= 1.3"
   ]
  },
  {
   "cell_type": "markdown",
   "id": "6e83e6fc-4882-4a70-8586-13bcb654c32b",
   "metadata": {},
   "source": [
    "## Choisir le workflow à lancer"
   ]
  },
  {
   "cell_type": "markdown",
   "id": "a1d22d4f-38ef-42ac-96e5-1e53ac67f4a1",
   "metadata": {},
   "source": [
    "**Attention : si atoz, veiller à bien mettre à jour xslt/tables_conversion.xsl si besoin**\n",
    "**Attention : ne pas oublier de modifier le path de tables_conversion dans la feuille de style atoz**"
   ]
  },
  {
   "cell_type": "code",
   "execution_count": 51,
   "id": "fa0289d2-9988-44bd-9d7b-af58c32881c9",
   "metadata": {},
   "outputs": [
    {
     "data": {
      "application/vnd.jupyter.widget-view+json": {
       "model_id": "dea1fee2b4624627bfbbfa1ff3038cc2",
       "version_major": 2,
       "version_minor": 0
      },
      "text/plain": [
       "Dropdown(description='Wotkflow select', layout=Layout(width='50%'), options=('atoz', 'cairn_qsj', 'cairn_titre…"
      ]
     },
     "metadata": {},
     "output_type": "display_data"
    },
    {
     "data": {
      "application/vnd.jupyter.widget-view+json": {
       "model_id": "b48f15d8f5324c52b64e3893e96bf478",
       "version_major": 2,
       "version_minor": 0
      },
      "text/plain": [
       "Text(value='', description='File name in /source_files/ (ex : atoz_export.csv)', layout=Layout(width='80%'), s…"
      ]
     },
     "metadata": {},
     "output_type": "display_data"
    },
    {
     "data": {
      "application/vnd.jupyter.widget-view+json": {
       "model_id": "ad38440842d9443e80ab81d7ec76651f",
       "version_major": 2,
       "version_minor": 0
      },
      "text/plain": [
       "Button(description='Launch!', style=ButtonStyle())"
      ]
     },
     "metadata": {},
     "output_type": "display_data"
    },
    {
     "data": {
      "application/vnd.jupyter.widget-view+json": {
       "model_id": "dce88c2b07e34108b17af8da3478845f",
       "version_major": 2,
       "version_minor": 0
      },
      "text/plain": [
       "Output()"
      ]
     },
     "metadata": {},
     "output_type": "display_data"
    },
    {
     "data": {
      "application/vnd.jupyter.widget-view+json": {
       "model_id": "d7b73770da3d4e7e938fcbc7926dc1a1",
       "version_major": 2,
       "version_minor": 0
      },
      "text/plain": [
       "IntProgress(value=0, bar_style='success', description='Loading:', max=10, style=ProgressStyle(bar_color='maroo…"
      ]
     },
     "metadata": {},
     "output_type": "display_data"
    }
   ],
   "source": [
    "w_options = ['atoz', 'cairn_qsj', 'cairn_titre_a_titre', 'cyberlibris', 'numilog']\n",
    "atoz_cols_to_remove = ['Edition','Editor', 'Illustrator', 'DOI', 'PeerReviewed','CustomCoverageBegin',\n",
    "       'CustomCoverageEnd', 'CoverageStatement', 'Embargo', 'CustomEmbargo',\n",
    "       'Description', 'Subject', 'PackageContentType',\n",
    "       'CreateCustom', 'HideOnPublicationFinder', 'Delete',\n",
    "       'OrderedThroughEBSCO', 'IsCustom', 'UserDefinedField1',\n",
    "       'UserDefinedField2', 'UserDefinedField3', 'UserDefinedField4',\n",
    "       'UserDefinedField5', 'PackageType', 'AllowEbscoToAddNewTitles',\n",
    "       'Unnamed: 40']\n",
    "spin = widgets.IntProgress(\n",
    "    value=0,\n",
    "    min=0,\n",
    "    max=10,\n",
    "    description='Loading:',\n",
    "    bar_style='success', # 'success', 'info', 'warning', 'danger' or ''\n",
    "    style={'bar_color': 'maroon'},\n",
    "    orientation='horizontal'\n",
    ")\n",
    "workflow = widgets.Dropdown(\n",
    "    value='atoz', \n",
    "    options=w_options, \n",
    "    description='Wotkflow select',\n",
    "    style={'description_width': 'initial'},\n",
    "    layout = Layout(width='50%')\n",
    ")\n",
    "filename = widgets.Text( \n",
    "    description='File name in /source_files/ (ex : atoz_export.csv)',\n",
    "    style={'description_width': 'initial'},\n",
    "    layout = Layout(width='80%')\n",
    ")\n",
    "button = widgets.Button(description=\"Launch!\")\n",
    "output = widgets.Output()\n",
    "\n",
    "display(workflow,filename,button, output,spin)\n",
    "\n",
    "def file_path(relative_path):\n",
    "    folder = os.path.dirname(os.path.abspath(\"__file__\"))\n",
    "    path_parts = relative_path.split(\"/\")\n",
    "    new_path = os.path.join(folder, *path_parts)\n",
    "    return new_path\n",
    "\n",
    "def on_button_clicked(b):\n",
    "    with output:\n",
    "        clear_output()\n",
    "        if workflow.value == \"atoz\":\n",
    "            subprocess.run(['execute_workflow.py','-w:atoz','-f:atoz_export.csv'],shell=True)\n",
    "            '''df = pd.read_csv(\"source_files/\"+filename.value, sep=',', encoding='utf8')\n",
    "            spin.value = 1\n",
    "            #clean\n",
    "            df = df.drop(atoz_cols_to_remove, axis=1).fillna(\"\").replace(\"&\", \"&amp;\")\n",
    "            spin.value = 2\n",
    "            # custom bsc cleaning\n",
    "            df.drop(df[(df.PackageName == 'Business Source Complete') & ((df.ResourceType == 'Report') | (df.ResourceType == 'Book Series'))].index, inplace=True)\n",
    "            spin.value = 3\n",
    "            df.to_xml(path_or_buffer=\"temporary_files/atoz_export.xml\", root_name='Resources', row_name='Resource', encoding='utf-8', xml_declaration=True, pretty_print=True, parser='lxml')\n",
    "            spin.value = 4\n",
    "            print(subprocess.run([\"run_saxon.bat\",file_path(\"xslt/atoztemp4primo.xsl\"),file_path(\"temporary_files/atoz_export.xml\"),file_path(\"result_files/atoz.xml\")], shell=True, check=True, capture_output=True))\n",
    "            spin.value = 5\n",
    "            '''\n",
    "            \n",
    "        if workflow.value == \"cairn_titre_a_titre\":\n",
    "            print(\"Attention passer dans MArcEdit d'abord\")\n",
    "\n",
    "button.on_click(on_button_clicked) "
   ]
  },
  {
   "cell_type": "code",
   "execution_count": null,
   "id": "d727b42f-161f-4eb7-a6a6-8afb300e1153",
   "metadata": {},
   "outputs": [],
   "source": []
  }
 ],
 "metadata": {
  "kernelspec": {
   "display_name": "venv_signalement",
   "language": "python",
   "name": "venv_signalement"
  },
  "language_info": {
   "codemirror_mode": {
    "name": "ipython",
    "version": 3
   },
   "file_extension": ".py",
   "mimetype": "text/x-python",
   "name": "python",
   "nbconvert_exporter": "python",
   "pygments_lexer": "ipython3",
   "version": "3.8.11"
  },
  "varInspector": {
   "cols": {
    "lenName": 16,
    "lenType": 16,
    "lenVar": 40
   },
   "kernels_config": {
    "python": {
     "delete_cmd_postfix": "",
     "delete_cmd_prefix": "del ",
     "library": "var_list.py",
     "varRefreshCmd": "print(var_dic_list())"
    },
    "r": {
     "delete_cmd_postfix": ") ",
     "delete_cmd_prefix": "rm(",
     "library": "var_list.r",
     "varRefreshCmd": "cat(var_dic_list()) "
    }
   },
   "types_to_exclude": [
    "module",
    "function",
    "builtin_function_or_method",
    "instance",
    "_Feature"
   ],
   "window_display": false
  }
 },
 "nbformat": 4,
 "nbformat_minor": 5
}
